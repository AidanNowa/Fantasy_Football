{
 "cells": [
  {
   "cell_type": "code",
   "execution_count": 1,
   "id": "9a40adce",
   "metadata": {},
   "outputs": [],
   "source": [
    "#%run fantasy_stats.py"
   ]
  },
  {
   "cell_type": "code",
   "execution_count": 2,
   "id": "cef37186",
   "metadata": {
    "vscode": {
     "languageId": "powershell"
    }
   },
   "outputs": [],
   "source": [
    "#pip install yahoo_fantasy_api"
   ]
  },
  {
   "cell_type": "code",
   "execution_count": 3,
   "id": "68aed04c",
   "metadata": {},
   "outputs": [],
   "source": [
    "from yahoo_fantasy_api import League, Team\n",
    "from yahoo_oauth import OAuth2"
   ]
  },
  {
   "cell_type": "code",
   "execution_count": 4,
   "id": "7535d3da",
   "metadata": {},
   "outputs": [
    {
     "name": "stderr",
     "output_type": "stream",
     "text": [
      "[2025-07-17 22:39:48,088 DEBUG] [yahoo_oauth.oauth.__init__] Checking \n",
      "[2025-07-17 22:39:48,099 DEBUG] [yahoo_oauth.oauth.token_is_valid] ELAPSED TIME : 192413.90698838234\n",
      "[2025-07-17 22:39:48,100 DEBUG] [yahoo_oauth.oauth.token_is_valid] TOKEN HAS EXPIRED\n",
      "[2025-07-17 22:39:48,100 DEBUG] [yahoo_oauth.oauth.refresh_access_token] REFRESHING TOKEN\n"
     ]
    }
   ],
   "source": [
    "oauth = OAuth2(None, None, from_file='./auth/oauth2yahoo.json')\n",
    "league = League(oauth, league_id='461.l.6288')"
   ]
  },
  {
   "cell_type": "code",
   "execution_count": 5,
   "id": "0caa599a",
   "metadata": {},
   "outputs": [],
   "source": [
    "#roster = league.rosters()"
   ]
  },
  {
   "cell_type": "code",
   "execution_count": 6,
   "id": "37e582b6",
   "metadata": {},
   "outputs": [],
   "source": [
    "team = Team(oauth, team_key=\"461.l.6288.t.7\")"
   ]
  },
  {
   "cell_type": "code",
   "execution_count": 7,
   "id": "4dd1f457",
   "metadata": {},
   "outputs": [
    {
     "data": {
      "text/plain": [
       "{'team_key': '461.l.6288.t.7',\n",
       " 'team_id': '7',\n",
       " 'name': 'Milwaukee Millies',\n",
       " 'is_owned_by_current_login': 1,\n",
       " 'url': 'https://football.fantasysports.yahoo.com/f1/6288/7',\n",
       " 'team_logos': [{'team_logo': {'size': 'large',\n",
       "    'url': 'https://yahoofantasysports-res.cloudinary.com/image/upload/t_s192sq/fantasy-logos/06430359b11625d0c85f4b3c0c9215fe7703b0ec071b49d2f932aa1c76b74cb3.jpg'}}],\n",
       " 'previous_season_team_rank': 1,\n",
       " 'division_id': '3',\n",
       " 'number_of_moves': 0,\n",
       " 'number_of_trades': 0,\n",
       " 'roster_adds': {'coverage_type': 'week', 'coverage_value': 1, 'value': '0'},\n",
       " 'league_scoring_type': 'head',\n",
       " 'has_draft_grade': 1,\n",
       " 'draft_grade': 'B',\n",
       " 'draft_recap_url': 'https://football.fantasysports.yahoo.com/f1/6288/7/draftrecap',\n",
       " 'managers': [{'manager': {'manager_id': '7',\n",
       "    'nickname': 'Aidan',\n",
       "    'guid': '4KAKNEK4VYYTC7DRQGST2OWGLE',\n",
       "    'is_current_login': '1',\n",
       "    'image_url': 'https://s.yimg.com/ag/images/default_user_profile_pic_64sq.jpg',\n",
       "    'felo_score': '734',\n",
       "    'felo_tier': 'gold'}}]}"
      ]
     },
     "execution_count": 7,
     "metadata": {},
     "output_type": "execute_result"
    }
   ],
   "source": [
    "team.details()"
   ]
  },
  {
   "cell_type": "code",
   "execution_count": 15,
   "id": "35b2de36",
   "metadata": {},
   "outputs": [
    {
     "name": "stdout",
     "output_type": "stream",
     "text": [
      "[{'player_id': 29235, 'name': 'Jared Goff', 'status': '', 'position_type': 'O', 'eligible_positions': ['QB'], 'selected_position': 'QB'}, {'player_id': 33393, 'name': \"Ja'Marr Chase\", 'status': '', 'position_type': 'O', 'eligible_positions': ['WR', 'W/R', 'W/R/T'], 'selected_position': 'WR'}, {'player_id': 30994, 'name': 'DJ Moore', 'status': '', 'position_type': 'O', 'eligible_positions': ['WR', 'W/R', 'W/R/T'], 'selected_position': 'WR'}, {'player_id': 30972, 'name': 'Saquon Barkley', 'status': '', 'position_type': 'O', 'eligible_positions': ['RB', 'W/R', 'W/R/T'], 'selected_position': 'RB'}, {'player_id': 30218, 'name': 'James Conner', 'status': '', 'position_type': 'O', 'eligible_positions': ['RB', 'W/R', 'W/R/T'], 'selected_position': 'RB'}, {'player_id': 34085, 'name': 'Jake Ferguson', 'status': '', 'position_type': 'O', 'eligible_positions': ['TE', 'W/R/T'], 'selected_position': 'TE'}, {'player_id': 40042, 'name': 'Jordan Addison', 'status': '', 'position_type': 'O', 'eligible_positions': ['WR', 'W/R', 'W/R/T'], 'selected_position': 'W/R'}, {'player_id': 40063, 'name': 'Jayden Reed', 'status': '', 'position_type': 'O', 'eligible_positions': ['WR', 'W/R', 'W/R/T'], 'selected_position': 'W/R/T'}, {'player_id': 40900, 'name': 'Caleb Williams', 'status': '', 'position_type': 'O', 'eligible_positions': ['QB'], 'selected_position': 'BN'}, {'player_id': 40119, 'name': 'Tyjae Spears', 'status': '', 'position_type': 'O', 'eligible_positions': ['RB', 'W/R', 'W/R/T'], 'selected_position': 'BN'}, {'player_id': 31017, 'name': 'Christian Kirk', 'status': '', 'position_type': 'O', 'eligible_positions': ['WR', 'W/R', 'W/R/T'], 'selected_position': 'BN'}, {'player_id': 33113, 'name': 'Juwan Johnson', 'status': '', 'position_type': 'O', 'eligible_positions': ['TE', 'W/R/T'], 'selected_position': 'BN'}, {'player_id': 40819, 'name': 'Brandon Aubrey', 'status': 'Q', 'position_type': 'K', 'eligible_positions': ['K'], 'selected_position': 'K'}, {'player_id': 30266, 'name': 'Jake Elliott', 'status': '', 'position_type': 'K', 'eligible_positions': ['K'], 'selected_position': 'BN'}, {'player_id': 100012, 'name': 'Kansas City', 'status': '', 'position_type': 'DT', 'eligible_positions': ['DEF'], 'selected_position': 'DEF'}, {'player_id': 30981, 'name': 'Minkah Fitzpatrick', 'status': '', 'position_type': 'DP', 'eligible_positions': ['DB'], 'selected_position': 'DB'}, {'player_id': 31938, 'name': 'Maxx Crosby', 'status': '', 'position_type': 'DP', 'eligible_positions': ['DL'], 'selected_position': 'DL'}, {'player_id': 32744, 'name': 'Zack Baun', 'status': '', 'position_type': 'DP', 'eligible_positions': ['LB'], 'selected_position': 'LB'}, {'player_id': 31835, 'name': 'Quinnen Williams', 'status': 'Q', 'position_type': 'DP', 'eligible_positions': ['DL'], 'selected_position': 'BN'}]\n"
     ]
    }
   ],
   "source": [
    "roster = team.roster()\n",
    "print(roster)"
   ]
  },
  {
   "cell_type": "code",
   "execution_count": 9,
   "id": "57f0680a",
   "metadata": {},
   "outputs": [
    {
     "data": {
      "text/plain": [
       "[{'display_name': 'Pass Yds', 'position_type': 'O'},\n",
       " {'display_name': 'Pass TD', 'position_type': 'O'},\n",
       " {'display_name': 'Int', 'position_type': 'O'},\n",
       " {'display_name': 'Rush Yds', 'position_type': 'O'},\n",
       " {'display_name': 'Rush TD', 'position_type': 'O'},\n",
       " {'display_name': 'Rec', 'position_type': 'O'},\n",
       " {'display_name': 'Rec Yds', 'position_type': 'O'},\n",
       " {'display_name': 'Rec TD', 'position_type': 'O'},\n",
       " {'display_name': 'Ret Yds', 'position_type': 'O'},\n",
       " {'display_name': 'Ret TD', 'position_type': 'O'},\n",
       " {'display_name': '2-PT', 'position_type': 'O'},\n",
       " {'display_name': 'Fum Lost', 'position_type': 'O'},\n",
       " {'display_name': 'Fum Ret TD', 'position_type': 'O'},\n",
       " {'display_name': 'FG 0-19', 'position_type': 'K'},\n",
       " {'display_name': 'FG 20-29', 'position_type': 'K'},\n",
       " {'display_name': 'FG 30-39', 'position_type': 'K'},\n",
       " {'display_name': 'FG 40-49', 'position_type': 'K'},\n",
       " {'display_name': 'FG 50+', 'position_type': 'K'},\n",
       " {'display_name': 'PAT Made', 'position_type': 'K'},\n",
       " {'display_name': 'Sack', 'position_type': 'DT'},\n",
       " {'display_name': 'Int', 'position_type': 'DT'},\n",
       " {'display_name': 'Fum Rec', 'position_type': 'DT'},\n",
       " {'display_name': 'TD', 'position_type': 'DT'},\n",
       " {'display_name': 'Safe', 'position_type': 'DT'},\n",
       " {'display_name': 'Blk Kick', 'position_type': 'DT'},\n",
       " {'display_name': 'Ret Yds', 'position_type': 'DT'},\n",
       " {'display_name': 'Ret TD', 'position_type': 'DT'},\n",
       " {'display_name': 'TFL', 'position_type': 'DT'},\n",
       " {'display_name': '3 and Outs', 'position_type': 'DT'},\n",
       " {'display_name': 'Pts Allow 0', 'position_type': 'DT'},\n",
       " {'display_name': 'Pts Allow 1-6', 'position_type': 'DT'},\n",
       " {'display_name': 'Pts Allow 7-13', 'position_type': 'DT'},\n",
       " {'display_name': 'Pts Allow 14-20', 'position_type': 'DT'},\n",
       " {'display_name': 'Pts Allow 21-27', 'position_type': 'DT'},\n",
       " {'display_name': 'Pts Allow 28-34', 'position_type': 'DT'},\n",
       " {'display_name': 'Pts Allow 35+', 'position_type': 'DT'},\n",
       " {'display_name': 'Yds Allow Neg', 'position_type': 'DT'},\n",
       " {'display_name': 'Yds Allow 0-99', 'position_type': 'DT'},\n",
       " {'display_name': 'Yds Allow 100-199', 'position_type': 'DT'},\n",
       " {'display_name': 'Yds Allow 200-299', 'position_type': 'DT'},\n",
       " {'display_name': 'Yds Allow 300-399', 'position_type': 'DT'},\n",
       " {'display_name': 'Yds Allow 400-499', 'position_type': 'DT'},\n",
       " {'display_name': 'Yds Allow 500+', 'position_type': 'DT'},\n",
       " {'display_name': 'XPR', 'position_type': 'DT'},\n",
       " {'display_name': 'Tack Solo', 'position_type': 'DP'},\n",
       " {'display_name': 'Tack Ast', 'position_type': 'DP'},\n",
       " {'display_name': 'Sack', 'position_type': 'DP'},\n",
       " {'display_name': 'Int', 'position_type': 'DP'},\n",
       " {'display_name': 'Fum Force', 'position_type': 'DP'},\n",
       " {'display_name': 'Fum Rec', 'position_type': 'DP'},\n",
       " {'display_name': 'TD', 'position_type': 'DP'},\n",
       " {'display_name': 'Safe', 'position_type': 'DP'},\n",
       " {'display_name': 'Pass Def', 'position_type': 'DP'},\n",
       " {'display_name': 'TFL', 'position_type': 'DP'},\n",
       " {'display_name': 'TO Ret Yds', 'position_type': 'DP'}]"
      ]
     },
     "execution_count": 9,
     "metadata": {},
     "output_type": "execute_result"
    }
   ],
   "source": [
    "league.stat_categories()"
   ]
  },
  {
   "cell_type": "code",
   "execution_count": null,
   "id": "de79ef3e",
   "metadata": {},
   "outputs": [],
   "source": [
    "#player_stats = league.player_stats([29235, 33393, 40819], req_type='season', season=2024)"
   ]
  },
  {
   "cell_type": "code",
   "execution_count": 11,
   "id": "94267002",
   "metadata": {},
   "outputs": [],
   "source": [
    "import pandas as pd"
   ]
  },
  {
   "cell_type": "code",
   "execution_count": 19,
   "id": "d6e1ffe7",
   "metadata": {},
   "outputs": [
    {
     "name": "stdout",
     "output_type": "stream",
     "text": [
      "    player_id                name status position_type eligible_positions  \\\n",
      "0       29235          Jared Goff                    O               [QB]   \n",
      "1       33393       Ja'Marr Chase                    O   [WR, W/R, W/R/T]   \n",
      "2       30994            DJ Moore                    O   [WR, W/R, W/R/T]   \n",
      "3       30972      Saquon Barkley                    O   [RB, W/R, W/R/T]   \n",
      "4       30218        James Conner                    O   [RB, W/R, W/R/T]   \n",
      "5       34085       Jake Ferguson                    O        [TE, W/R/T]   \n",
      "6       40042      Jordan Addison                    O   [WR, W/R, W/R/T]   \n",
      "7       40063         Jayden Reed                    O   [WR, W/R, W/R/T]   \n",
      "8       40900      Caleb Williams                    O               [QB]   \n",
      "9       40119        Tyjae Spears                    O   [RB, W/R, W/R/T]   \n",
      "10      31017      Christian Kirk                    O   [WR, W/R, W/R/T]   \n",
      "11      33113       Juwan Johnson                    O        [TE, W/R/T]   \n",
      "12      40819      Brandon Aubrey      Q             K                [K]   \n",
      "13      30266        Jake Elliott                    K                [K]   \n",
      "14     100012         Kansas City                   DT              [DEF]   \n",
      "15      30981  Minkah Fitzpatrick                   DP               [DB]   \n",
      "16      31938         Maxx Crosby                   DP               [DL]   \n",
      "17      32744           Zack Baun                   DP               [LB]   \n",
      "18      31835    Quinnen Williams      Q            DP               [DL]   \n",
      "\n",
      "   selected_position  \n",
      "0                 QB  \n",
      "1                 WR  \n",
      "2                 WR  \n",
      "3                 RB  \n",
      "4                 RB  \n",
      "5                 TE  \n",
      "6                W/R  \n",
      "7              W/R/T  \n",
      "8                 BN  \n",
      "9                 BN  \n",
      "10                BN  \n",
      "11                BN  \n",
      "12                 K  \n",
      "13                BN  \n",
      "14               DEF  \n",
      "15                DB  \n",
      "16                DL  \n",
      "17                LB  \n",
      "18                BN  \n"
     ]
    }
   ],
   "source": [
    "players = pd.json_normalize(roster)\n",
    "print(players)"
   ]
  },
  {
   "cell_type": "code",
   "execution_count": 24,
   "id": "d24b6a54",
   "metadata": {},
   "outputs": [],
   "source": [
    "player_id_list = players['player_id'].tolist()"
   ]
  },
  {
   "cell_type": "code",
   "execution_count": 25,
   "id": "74923f1c",
   "metadata": {},
   "outputs": [],
   "source": [
    "player_stats_2024 = league.player_stats(player_id_list, req_type='season', season=2024)"
   ]
  },
  {
   "cell_type": "code",
   "execution_count": 43,
   "id": "dac8490b",
   "metadata": {},
   "outputs": [
    {
     "name": "stdout",
     "output_type": "stream",
     "text": [
      "Index(['player_id', 'name', 'position_type', 'Pass Yds', 'Pass TD', 'Int',\n",
      "       'Rush Att', 'Rush Yds', 'Rush TD', 'Rec', 'Rec Yds', 'Rec TD',\n",
      "       'Ret Yds', 'Ret TD', '2-PT', 'Fum Lost', 'Targets', 'Fum Ret TD',\n",
      "       'total_points', 'FG 0-19', 'FG 20-29', 'FG 30-39', 'FG 40-49', 'FG 50+',\n",
      "       'PAT Made', 'Pts Allow', 'Sack', 'Fum Rec', 'TD', 'Safe', 'Blk Kick',\n",
      "       'TFL', 'Def Yds Allow', '3 and Outs', 'Pts Allow 0', 'Pts Allow 1-6',\n",
      "       'Pts Allow 7-13', 'Pts Allow 14-20', 'Pts Allow 21-27',\n",
      "       'Pts Allow 28-34', 'Pts Allow 35+', 'Yds Allow Neg', 'Yds Allow 0-99',\n",
      "       'Yds Allow 100-199', 'Yds Allow 200-299', 'Yds Allow 300-399',\n",
      "       'Yds Allow 400-499', 'Yds Allow 500+', 'XPR', 'Tack Solo', 'Tack Ast',\n",
      "       'Fum Force', 'Pass Def', 'TO Ret Yds'],\n",
      "      dtype='object')\n"
     ]
    }
   ],
   "source": [
    "df = pd.json_normalize(player_stats_2024)\n",
    "df.fillna(0, inplace=True)\n",
    "#print(df)\n",
    "print(df.columns)"
   ]
  },
  {
   "cell_type": "code",
   "execution_count": null,
   "id": "eb7ca8c3",
   "metadata": {},
   "outputs": [],
   "source": [
    "def calc_points(df):\n",
    "    for row in df.row:\n",
    "        points = 0\n",
    "        if row['position_type'] == 'O':\n",
    "            points = \n",
    "    "
   ]
  },
  {
   "cell_type": "code",
   "execution_count": null,
   "id": "e7593f10",
   "metadata": {},
   "outputs": [
    {
     "name": "stdout",
     "output_type": "stream",
     "text": [
      "player_id                 29235\n",
      "name                 Jared Goff\n",
      "position_type                 O\n",
      "Pass Yds                 4629.0\n",
      "Pass TD                    37.0\n",
      "Int                        12.0\n",
      "Rush Att                   35.0\n",
      "Rush Yds                   56.0\n",
      "Rush TD                     0.0\n",
      "Rec                         1.0\n",
      "Rec Yds                     7.0\n",
      "Rec TD                      1.0\n",
      "Ret Yds                     0.0\n",
      "Ret TD                      0.0\n",
      "2-PT                        1.0\n",
      "Fum Lost                    0.0\n",
      "Targets                     1.0\n",
      "Fum Ret TD                  0.0\n",
      "total_points             399.96\n",
      "FG 0-19                     NaN\n",
      "FG 20-29                    NaN\n",
      "FG 30-39                    NaN\n",
      "FG 40-49                    NaN\n",
      "FG 50+                      NaN\n",
      "PAT Made                    NaN\n",
      "Pts Allow                   NaN\n",
      "Sack                        NaN\n",
      "Fum Rec                     NaN\n",
      "TD                          NaN\n",
      "Safe                        NaN\n",
      "Blk Kick                    NaN\n",
      "TFL                         NaN\n",
      "Def Yds Allow               NaN\n",
      "3 and Outs                  NaN\n",
      "Pts Allow 0                 NaN\n",
      "Pts Allow 1-6               NaN\n",
      "Pts Allow 7-13              NaN\n",
      "Pts Allow 14-20             NaN\n",
      "Pts Allow 21-27             NaN\n",
      "Pts Allow 28-34             NaN\n",
      "Pts Allow 35+               NaN\n",
      "Yds Allow Neg               NaN\n",
      "Yds Allow 0-99              NaN\n",
      "Yds Allow 100-199           NaN\n",
      "Yds Allow 200-299           NaN\n",
      "Yds Allow 300-399           NaN\n",
      "Yds Allow 400-499           NaN\n",
      "Yds Allow 500+              NaN\n",
      "XPR                         NaN\n",
      "Tack Solo                   NaN\n",
      "Tack Ast                    NaN\n",
      "Fum Force                   NaN\n",
      "Pass Def                    NaN\n",
      "TO Ret Yds                  NaN\n",
      "points                   185.16\n",
      "Name: 0, dtype: object\n"
     ]
    }
   ],
   "source": [
    "#convert raw stats to points\n",
    "df['points'] = (df['Pass Yds'] * (1/25)) + \n",
    "print(df.iloc[0])"
   ]
  },
  {
   "cell_type": "code",
   "execution_count": 38,
   "id": "e9b04f9c",
   "metadata": {},
   "outputs": [],
   "source": [
    "df.drop(['points'], axis=1, inplace=True)"
   ]
  },
  {
   "cell_type": "code",
   "execution_count": 39,
   "id": "e226b734",
   "metadata": {},
   "outputs": [
    {
     "name": "stdout",
     "output_type": "stream",
     "text": [
      "Index(['player_id', 'name', 'position_type', 'Pass Yds', 'Pass TD', 'Int',\n",
      "       'Rush Att', 'Rush Yds', 'Rush TD', 'Rec', 'Rec Yds', 'Rec TD',\n",
      "       'Ret Yds', 'Ret TD', '2-PT', 'Fum Lost', 'Targets', 'Fum Ret TD',\n",
      "       'total_points', 'FG 0-19', 'FG 20-29', 'FG 30-39', 'FG 40-49', 'FG 50+',\n",
      "       'PAT Made', 'Pts Allow', 'Sack', 'Fum Rec', 'TD', 'Safe', 'Blk Kick',\n",
      "       'TFL', 'Def Yds Allow', '3 and Outs', 'Pts Allow 0', 'Pts Allow 1-6',\n",
      "       'Pts Allow 7-13', 'Pts Allow 14-20', 'Pts Allow 21-27',\n",
      "       'Pts Allow 28-34', 'Pts Allow 35+', 'Yds Allow Neg', 'Yds Allow 0-99',\n",
      "       'Yds Allow 100-199', 'Yds Allow 200-299', 'Yds Allow 300-399',\n",
      "       'Yds Allow 400-499', 'Yds Allow 500+', 'XPR', 'Tack Solo', 'Tack Ast',\n",
      "       'Fum Force', 'Pass Def', 'TO Ret Yds'],\n",
      "      dtype='object')\n"
     ]
    }
   ],
   "source": [
    "print(df.columns)"
   ]
  },
  {
   "cell_type": "code",
   "execution_count": null,
   "id": "b2a9debf",
   "metadata": {},
   "outputs": [],
   "source": []
  }
 ],
 "metadata": {
  "kernelspec": {
   "display_name": "Python 3",
   "language": "python",
   "name": "python3"
  },
  "language_info": {
   "codemirror_mode": {
    "name": "ipython",
    "version": 3
   },
   "file_extension": ".py",
   "mimetype": "text/x-python",
   "name": "python",
   "nbconvert_exporter": "python",
   "pygments_lexer": "ipython3",
   "version": "3.11.9"
  }
 },
 "nbformat": 4,
 "nbformat_minor": 5
}
